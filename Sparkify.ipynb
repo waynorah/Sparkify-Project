{
 "cells": [
  {
   "cell_type": "markdown",
   "metadata": {},
   "source": [
    "# Sparkify Project Workspace\n",
    "This workspace contains a tiny subset (128MB) of the full dataset available (12GB). Feel free to use this workspace to build your project, or to explore a smaller subset with Spark before deploying your cluster on the cloud. Instructions for setting up your Spark cluster is included in the last lesson of the Extracurricular Spark Course content.\n",
    "\n",
    "You can follow the steps below to guide your data analysis and model building portion of this project."
   ]
  },
  {
   "cell_type": "code",
   "execution_count": 2,
   "metadata": {},
   "outputs": [],
   "source": [
    "# import libraries\n",
    "from pyspark.sql import SparkSession\n",
    "from pyspark.sql.functions import avg, col, concat, desc, explode, lit, min, max, split, udf, isnull\n",
    "from pyspark.sql.types import IntegerType\n",
    "\n",
    "from pyspark.ml import Pipeline\n",
    "from pyspark.ml.classification import LogisticRegression, RandomForestClassifier, GBTClassifier, DecisionTreeClassifier, NaiveBayes\n",
    "from pyspark.ml.evaluation import MulticlassClassificationEvaluator\n",
    "from pyspark.ml.feature import CountVectorizer, IDF, Normalizer, PCA, RegexTokenizer, StandardScaler, StopWordsRemover, StringIndexer, VectorAssembler\n",
    "from pyspark.ml.regression import LinearRegression\n",
    "from pyspark.ml.tuning import CrossValidator, ParamGridBuilder\n",
    "\n",
    "import re\n",
    "import datetime\n",
    "import matplotlib.pyplot as plt\n",
    "import pandas as pd\n",
    "import seaborn as sns"
   ]
  },
  {
   "cell_type": "code",
   "execution_count": 3,
   "metadata": {},
   "outputs": [
    {
     "name": "stdout",
     "output_type": "stream",
     "text": [
      "root\n",
      " |-- artist: string (nullable = true)\n",
      " |-- auth: string (nullable = true)\n",
      " |-- firstName: string (nullable = true)\n",
      " |-- gender: string (nullable = true)\n",
      " |-- itemInSession: long (nullable = true)\n",
      " |-- lastName: string (nullable = true)\n",
      " |-- length: double (nullable = true)\n",
      " |-- level: string (nullable = true)\n",
      " |-- location: string (nullable = true)\n",
      " |-- method: string (nullable = true)\n",
      " |-- page: string (nullable = true)\n",
      " |-- registration: long (nullable = true)\n",
      " |-- sessionId: long (nullable = true)\n",
      " |-- song: string (nullable = true)\n",
      " |-- status: long (nullable = true)\n",
      " |-- ts: long (nullable = true)\n",
      " |-- userAgent: string (nullable = true)\n",
      " |-- userId: string (nullable = true)\n",
      "\n"
     ]
    }
   ],
   "source": [
    "# create a Spark session\n",
    "spark = SparkSession.builder \\\n",
    "    .master(\"local\") \\\n",
    "    .appName(\"Identify Features\") \\\n",
    "    .getOrCreate()\n",
    "\n",
    "df = spark.read.json('mini_sparkify_event_data.json')\n",
    "\n",
    "# Print schema for future reference\n",
    "df.printSchema()"
   ]
  },
  {
   "cell_type": "markdown",
   "metadata": {},
   "source": [
    "# Load and Clean Dataset\n",
    "In this workspace, the mini-dataset file is `mini_sparkify_event_data.json`. Load and clean the dataset, checking for invalid or missing data - for example, records without userids or sessionids. "
   ]
  },
  {
   "cell_type": "code",
   "execution_count": 4,
   "metadata": {},
   "outputs": [
    {
     "data": {
      "text/plain": [
       "286500"
      ]
     },
     "execution_count": 4,
     "metadata": {},
     "output_type": "execute_result"
    }
   ],
   "source": [
    "df.count()"
   ]
  },
  {
   "cell_type": "code",
   "execution_count": 5,
   "metadata": {},
   "outputs": [
    {
     "data": {
      "text/plain": [
       "286500"
      ]
     },
     "execution_count": 5,
     "metadata": {},
     "output_type": "execute_result"
    }
   ],
   "source": [
    "df = df.dropna(how = \"any\", subset = [\"userId\", \"sessionId\"])\n",
    "df.count()"
   ]
  },
  {
   "cell_type": "code",
   "execution_count": 6,
   "metadata": {},
   "outputs": [
    {
     "data": {
      "text/plain": [
       "278154"
      ]
     },
     "execution_count": 6,
     "metadata": {},
     "output_type": "execute_result"
    }
   ],
   "source": [
    "df = df.filter(df.userId!=\"\")\n",
    "df.count()"
   ]
  },
  {
   "cell_type": "markdown",
   "metadata": {},
   "source": [
    "# Exploratory Data Analysis\n",
    "When you're working with the full dataset, perform EDA by loading a small subset of the data and doing basic manipulations within Spark. In this workspace, you are already provided a small subset of data you can explore.\n",
    "\n",
    "### Define Churn\n",
    "\n",
    "Once you've done some preliminary analysis, create a column `Churn` to use as the label for your model. I suggest using the `Cancellation Confirmation` events to define your churn, which happen for both paid and free users. As a bonus task, you can also look into the `Downgrade` events.\n",
    "\n",
    "### Explore Data\n",
    "Once you've defined churn, perform some exploratory data analysis to observe the behavior for users who stayed vs users who churned. You can start by exploring aggregates on these two groups of users, observing how much of a specific action they experienced per a certain time unit or number of songs played."
   ]
  },
  {
   "cell_type": "code",
   "execution_count": 7,
   "metadata": {},
   "outputs": [
    {
     "name": "stdout",
     "output_type": "stream",
     "text": [
      "+--------------------+\n",
      "|                page|\n",
      "+--------------------+\n",
      "|              Cancel|\n",
      "|    Submit Downgrade|\n",
      "|         Thumbs Down|\n",
      "|                Home|\n",
      "|           Downgrade|\n",
      "|         Roll Advert|\n",
      "|              Logout|\n",
      "|       Save Settings|\n",
      "|Cancellation Conf...|\n",
      "|               About|\n",
      "|            Settings|\n",
      "|     Add to Playlist|\n",
      "|          Add Friend|\n",
      "|            NextSong|\n",
      "|           Thumbs Up|\n",
      "|                Help|\n",
      "|             Upgrade|\n",
      "|               Error|\n",
      "|      Submit Upgrade|\n",
      "+--------------------+\n",
      "\n"
     ]
    }
   ],
   "source": [
    "df.select(\"page\").dropDuplicates().show()"
   ]
  },
  {
   "cell_type": "code",
   "execution_count": 8,
   "metadata": {},
   "outputs": [
    {
     "name": "stdout",
     "output_type": "stream",
     "text": [
      "+------+\n",
      "|userId|\n",
      "+------+\n",
      "|   125|\n",
      "|    51|\n",
      "|    54|\n",
      "|100014|\n",
      "|   101|\n",
      "|    29|\n",
      "|100021|\n",
      "|    87|\n",
      "|    73|\n",
      "|     3|\n",
      "+------+\n",
      "only showing top 10 rows\n",
      "\n"
     ]
    }
   ],
   "source": [
    "df.filter(df.page==\"Cancellation Confirmation\").select(\"userId\").dropDuplicates().show(10)"
   ]
  },
  {
   "cell_type": "code",
   "execution_count": 9,
   "metadata": {},
   "outputs": [],
   "source": [
    "# add time to see the time clear\n",
    "get_time = udf(lambda x: datetime.datetime.fromtimestamp(x / 1000.0).strftime(\"%Y-%m-%d %H:%M:%S\"))\n",
    "df = df.withColumn(\"time\", get_time(df.ts))"
   ]
  },
  {
   "cell_type": "code",
   "execution_count": 10,
   "metadata": {},
   "outputs": [
    {
     "name": "stdout",
     "output_type": "stream",
     "text": [
      "+------+--------------------+-------------------+-----+--------------------+---------+\n",
      "|userId|                page|               time|level|                song|sessionId|\n",
      "+------+--------------------+-------------------+-----+--------------------+---------+\n",
      "|   125|            NextSong|2018-10-12 04:05:44| free|    paranoid android|      174|\n",
      "|   125|            NextSong|2018-10-12 04:11:21| free|Hypnotize(Album V...|      174|\n",
      "|   125|            NextSong|2018-10-12 04:15:11| free|       I'm On My Way|      174|\n",
      "|   125|            NextSong|2018-10-12 04:18:34| free|Leader Of Men (Al...|      174|\n",
      "|   125|            NextSong|2018-10-12 04:22:04| free|       Love You Down|      174|\n",
      "|   125|            NextSong|2018-10-12 04:28:35| free|Don't Leave Me Be...|      174|\n",
      "|   125|            NextSong|2018-10-12 04:32:08| free|     They're Red Hot|      174|\n",
      "|   125|            NextSong|2018-10-12 04:35:06| free|                Kota|      174|\n",
      "|   125|         Roll Advert|2018-10-12 04:35:17| free|                null|      174|\n",
      "|   125|              Cancel|2018-10-12 04:35:18| free|                null|      174|\n",
      "|   125|Cancellation Conf...|2018-10-12 04:35:18| free|                null|      174|\n",
      "+------+--------------------+-------------------+-----+--------------------+---------+\n",
      "\n"
     ]
    }
   ],
   "source": [
    "df.select([\"userId\", \"page\", \"time\", \"level\", \"song\", \"sessionId\"]).where(df.userId == \"125\").sort(\"time\").show(100)"
   ]
  },
  {
   "cell_type": "code",
   "execution_count": 11,
   "metadata": {},
   "outputs": [],
   "source": [
    "# Add churn column\n",
    "churn_users = df.filter(df.page==\"Cancellation Confirmation\").select(\"userId\").dropDuplicates()\n",
    "churn_users_list = [(row['userId']) for row in churn_users.collect()]\n",
    "df_withchurn = df.withColumn(\"churn\", df.userId.isin(churn_users_list))"
   ]
  },
  {
   "cell_type": "code",
   "execution_count": 12,
   "metadata": {},
   "outputs": [
    {
     "name": "stdout",
     "output_type": "stream",
     "text": [
      "+-----+------+-----+\n",
      "|churn|gender|count|\n",
      "+-----+------+-----+\n",
      "|false|     M|   89|\n",
      "|false|     F|   84|\n",
      "| true|     F|   20|\n",
      "| true|     M|   32|\n",
      "+-----+------+-----+\n",
      "\n"
     ]
    }
   ],
   "source": [
    "# Show the gender distribution between churn user and normal user\n",
    "df_withchurn.dropDuplicates([\"userId\", \"gender\"]).groupby([\"churn\", \"gender\"]).count().sort(\"churn\").show()"
   ]
  },
  {
   "cell_type": "code",
   "execution_count": 13,
   "metadata": {},
   "outputs": [
    {
     "data": {
      "text/plain": [
       "<matplotlib.axes._subplots.AxesSubplot at 0x7f43a3ee5f28>"
      ]
     },
     "execution_count": 13,
     "metadata": {},
     "output_type": "execute_result"
    },
    {
     "data": {
      "image/png": "[encoded data removed]",
      "text/plain": [
       "<matplotlib.figure.Figure at 0x7f43a3ee54e0>"
      ]
     },
     "metadata": {
      "needs_background": "light"
     },
     "output_type": "display_data"
    }
   ],
   "source": [
    "df_pd = df_withchurn.dropDuplicates([\"userId\", \"gender\"]).groupby([\"churn\", \"gender\"]).count().sort(\"churn\").toPandas()\n",
    "sns.barplot(x='churn', y='count', hue='gender', data=df_pd)"
   ]
  },
  {
   "cell_type": "code",
   "execution_count": 14,
   "metadata": {},
   "outputs": [],
   "source": [
    "churn_count = df_withchurn.filter(df_withchurn.churn==1).count()\n",
    "no_churn_count = df_withchurn.filter(df_withchurn.churn==0).count()\n",
    "\n",
    "df_temp1 = df_withchurn.filter(df_withchurn.churn==1).filter(df_withchurn.page!=\"NextSong\").groupby([\"page\"]).count()\n",
    "df_temp1 = df_temp1.withColumn(\"cFreq\", df_temp1[\"count\"]/(churn_count/100)).sort(\"page\")\n",
    "\n",
    "df_temp2 = df_withchurn.filter(df_withchurn.churn==0).filter(df_withchurn.page!=\"NextSong\").groupby([\"page\"]).count()\n",
    "df_temp2 = df_temp2.withColumn(\"ncFreq\", df_temp2[\"count\"]/(no_churn_count/100)).sort(\"page\")"
   ]
  },
  {
   "cell_type": "code",
   "execution_count": 15,
   "metadata": {},
   "outputs": [
    {
     "data": {
      "text/plain": [
       "<matplotlib.axes._subplots.AxesSubplot at 0x7f43a15a6e10>"
      ]
     },
     "execution_count": 15,
     "metadata": {},
     "output_type": "execute_result"
    },
    {
     "data": {
      "image/png": "[encoded data removed]",
      "text/plain": [
       "<matplotlib.figure.Figure at 0x7f43daafc860>"
      ]
     },
     "metadata": {
      "needs_background": "light"
     },
     "output_type": "display_data"
    }
   ],
   "source": [
    "df_pd = df_temp1.join(df_temp2, \"page\", \"outer\").drop(\"count\").fillna(0).toPandas()\n",
    "df_pd.plot.bar(\"page\")"
   ]
  },
  {
   "cell_type": "code",
   "execution_count": 16,
   "metadata": {},
   "outputs": [
    {
     "data": {
      "text/plain": [
       "<matplotlib.axes._subplots.AxesSubplot at 0x7f43a14f6128>"
      ]
     },
     "execution_count": 16,
     "metadata": {},
     "output_type": "execute_result"
    },
    {
     "data": {
      "image/png": "[encoded data removed]",
      "text/plain": [
       "<matplotlib.figure.Figure at 0x7f43a151f128>"
      ]
     },
     "metadata": {
      "needs_background": "light"
     },
     "output_type": "display_data"
    }
   ],
   "source": [
    "# Show the level when the user churned\n",
    "df_pd = df_withchurn.filter(df_withchurn.page==\"Cancellation Confirmation\").groupby(\"level\").count().toPandas()\n",
    "sns.barplot(x=\"level\", y=\"count\", data=df_pd)"
   ]
  },
  {
   "cell_type": "code",
   "execution_count": 17,
   "metadata": {},
   "outputs": [
    {
     "name": "stdout",
     "output_type": "stream",
     "text": [
      "+-------+-------------------+\n",
      "|summary|               time|\n",
      "+-------+-------------------+\n",
      "|  count|             278154|\n",
      "|   mean|               null|\n",
      "| stddev|               null|\n",
      "|    min|2018-10-01 00:01:57|\n",
      "|    max|2018-12-03 01:11:16|\n",
      "+-------+-------------------+\n",
      "\n"
     ]
    }
   ],
   "source": [
    "# Show the time span of the log\n",
    "df_withchurn.select(\"time\").describe().show()"
   ]
  },
  {
   "cell_type": "code",
   "execution_count": 18,
   "metadata": {},
   "outputs": [
    {
     "data": {
      "text/plain": [
       "<matplotlib.axes._subplots.AxesSubplot at 0x7f43a1354cc0>"
      ]
     },
     "execution_count": 18,
     "metadata": {},
     "output_type": "execute_result"
    },
    {
     "data": {
      "image/png": "[encoded data removed]",
      "text/plain": [
       "<matplotlib.figure.Figure at 0x7f43a14e6d30>"
      ]
     },
     "metadata": {
      "needs_background": "light"
     },
     "output_type": "display_data"
    }
   ],
   "source": [
    "# Show the distribution in operations in each session\n",
    "df_pd = df_withchurn.groupby(\"churn\", \"userId\", \"sessionId\").count().toPandas()\n",
    "sns.boxplot(x='count', y='churn', orient=\"h\", data=df_pd)"
   ]
  },
  {
   "cell_type": "code",
   "execution_count": 19,
   "metadata": {},
   "outputs": [],
   "source": [
    "get_hour = udf(lambda x: datetime.datetime.fromtimestamp(x / 1000.0).hour)\n",
    "df_withchurn = df_withchurn.withColumn(\"hour\", get_hour(df_withchurn.ts))\n",
    "\n",
    "get_weekday = udf(lambda x: datetime.datetime.fromtimestamp(x / 1000.0).strftime(\"%w\"))\n",
    "df_withchurn = df_withchurn.withColumn(\"weekday\", get_weekday(df_withchurn.ts))\n",
    "\n",
    "get_day = udf(lambda x: datetime.datetime.fromtimestamp(x / 1000.0).day)\n",
    "df_withchurn = df_withchurn.withColumn(\"day\", get_day(df_withchurn.ts))"
   ]
  },
  {
   "cell_type": "code",
   "execution_count": 20,
   "metadata": {},
   "outputs": [],
   "source": [
    "def plot_cnt_by_churn(time): \n",
    "    \"\"\"\n",
    "    This function use to plot the distribution of different dimension\n",
    "    \"\"\"\n",
    "    df_pd = df_withchurn.filter(df_withchurn.page == \"NextSong\").groupby(\"churn\", time).count().orderBy(df_withchurn[time].cast(\"float\")).toPandas()\n",
    "    df_pd[time] = pd.to_numeric(df_pd[time])\n",
    "    df_pd[df_pd.churn==0].plot.bar(x=time, y='count', color='Blue', label='Not churn')\n",
    "    df_pd[df_pd.churn==1].plot.bar(x=time, y='count', color='Red', label='Churn')"
   ]
  },
  {
   "cell_type": "code",
   "execution_count": 21,
   "metadata": {},
   "outputs": [
    {
     "data": {
      "image/png": "[encoded data removed]",
      "text/plain": [
       "<matplotlib.figure.Figure at 0x7f43a159ce10>"
      ]
     },
     "metadata": {
      "needs_background": "light"
     },
     "output_type": "display_data"
    },
    {
     "data": {
      "image/png": "[encoded data removed]",
      "text/plain": [
       "<matplotlib.figure.Figure at 0x7f43a12cd048>"
      ]
     },
     "metadata": {
      "needs_background": "light"
     },
     "output_type": "display_data"
    }
   ],
   "source": [
    "plot_cnt_by_churn(\"hour\")"
   ]
  },
  {
   "cell_type": "code",
   "execution_count": 22,
   "metadata": {},
   "outputs": [
    {
     "data": {
      "image/png": "[encoded data removed]",
      "text/plain": [
       "<matplotlib.figure.Figure at 0x7f43a1305f98>"
      ]
     },
     "metadata": {
      "needs_background": "light"
     },
     "output_type": "display_data"
    },
    {
     "data": {
      "image/png": "[encoded data removed]",
      "text/plain": [
       "<matplotlib.figure.Figure at 0x7f43a11c6a90>"
      ]
     },
     "metadata": {
      "needs_background": "light"
     },
     "output_type": "display_data"
    }
   ],
   "source": [
    "plot_cnt_by_churn(\"weekday\")"
   ]
  },
  {
   "cell_type": "code",
   "execution_count": 23,
   "metadata": {},
   "outputs": [
    {
     "data": {
      "image/png": "[encoded data removed]",
      "text/plain": [
       "<matplotlib.figure.Figure at 0x7f43a11a9c18>"
      ]
     },
     "metadata": {
      "needs_background": "light"
     },
     "output_type": "display_data"
    },
    {
     "data": {
      "image/png": "[encoded data removed]",
      "text/plain": [
       "<matplotlib.figure.Figure at 0x7f43a1069208>"
      ]
     },
     "metadata": {
      "needs_background": "light"
     },
     "output_type": "display_data"
    }
   ],
   "source": [
    "plot_cnt_by_churn(\"day\")"
   ]
  },
  {
   "cell_type": "markdown",
   "metadata": {},
   "source": [
    "# Feature Engineering\n",
    "Once you've familiarized yourself with the data, build out the features you find promising to train your model on. To work with the full dataset, you can follow the following steps.\n",
    "- Write a script to extract the necessary features from the smaller subset of data\n",
    "- Ensure that your script is scalable, using the best practices discussed in Lesson 3\n",
    "- Try your script on the full data set, debugging your script if necessary\n",
    "\n",
    "If you are working in the classroom workspace, you can just extract features based on the small subset of data contained here. Be sure to transfer over this work to the larger dataset when you work on your Spark cluster."
   ]
  },
  {
   "cell_type": "code",
   "execution_count": 24,
   "metadata": {},
   "outputs": [],
   "source": [
    "# Feature 1: number of days since registration\n",
    "user_max_ts = df_withchurn.groupby(\"userId\").max(\"ts\").sort(\"userId\")\n",
    "user_reg_ts = df_withchurn.select(\"userId\", \"registration\").dropDuplicates().sort(\"userId\")\n",
    "user_reg_days = user_reg_ts.join(user_max_ts, user_reg_ts.userId == user_max_ts.userId).select(user_reg_ts[\"userId\"], ((user_max_ts[\"max(ts)\"]-user_reg_ts[\"registration\"])/(1000*60*60*24)).alias(\"regDay\"))"
   ]
  },
  {
   "cell_type": "code",
   "execution_count": 25,
   "metadata": {},
   "outputs": [
    {
     "name": "stdout",
     "output_type": "stream",
     "text": [
      "+------+------------------+\n",
      "|userId|            regDay|\n",
      "+------+------------------+\n",
      "|100010| 55.64365740740741|\n",
      "|200002| 70.07462962962963|\n",
      "|   125| 71.31688657407408|\n",
      "|   124|131.55591435185184|\n",
      "|    51|19.455844907407407|\n",
      "+------+------------------+\n",
      "only showing top 5 rows\n",
      "\n"
     ]
    }
   ],
   "source": [
    "user_reg_days.show(5)"
   ]
  },
  {
   "cell_type": "code",
   "execution_count": 26,
   "metadata": {},
   "outputs": [],
   "source": [
    "# Feature 2: avg & min & max time per session\n",
    "user_session_time = df_withchurn.groupby(\"userId\", \"sessionId\").agg(((max(df_withchurn.ts)-min(df_withchurn.ts))/(1000*60)).alias(\"sessionTime\"))\n",
    "user_session_time_stat = user_session_time.groupby(\"userId\").agg(avg(user_session_time.sessionTime).alias(\"avgSessionTime\"), min(user_session_time.sessionTime).alias(\"minSessionTime\"), max(user_session_time.sessionTime).alias(\"maxSessionTime\")).sort(\"userId\")"
   ]
  },
  {
   "cell_type": "code",
   "execution_count": 27,
   "metadata": {},
   "outputs": [
    {
     "name": "stdout",
     "output_type": "stream",
     "text": [
      "+------+------------------+-----------------+------------------+\n",
      "|userId|    avgSessionTime|   minSessionTime|    maxSessionTime|\n",
      "+------+------------------+-----------------+------------------+\n",
      "|    10|459.74722222222226|91.41666666666667|1547.9166666666667|\n",
      "|   100| 316.5190476190476|              0.0|1019.5833333333334|\n",
      "|100001|148.15833333333333|             63.0|215.28333333333333|\n",
      "|100002|201.18333333333334|              0.0| 730.4666666666667|\n",
      "|100003| 99.11666666666667|3.216666666666667|195.01666666666668|\n",
      "+------+------------------+-----------------+------------------+\n",
      "only showing top 5 rows\n",
      "\n"
     ]
    }
   ],
   "source": [
    "user_session_time_stat.show(5)"
   ]
  },
  {
   "cell_type": "code",
   "execution_count": 28,
   "metadata": {},
   "outputs": [],
   "source": [
    "# Feature 3: number of songs per session\n",
    "user_session_songs = df_withchurn.filter(df_withchurn.page==\"NextSong\").groupby(\"userId\", \"sessionId\").count()\n",
    "user_session_songs_avg = user_session_songs.groupby(\"userId\").agg(avg(user_session_songs[\"count\"]).alias(\"avgSessionSongs\")).sort(\"userId\")"
   ]
  },
  {
   "cell_type": "code",
   "execution_count": 29,
   "metadata": {},
   "outputs": [
    {
     "name": "stdout",
     "output_type": "stream",
     "text": [
      "+------+------------------+\n",
      "|userId|   avgSessionSongs|\n",
      "+------+------------------+\n",
      "|    10|112.16666666666667|\n",
      "|   100| 78.88235294117646|\n",
      "|100001|             33.25|\n",
      "|100002|             48.75|\n",
      "|100003|              25.5|\n",
      "+------+------------------+\n",
      "only showing top 5 rows\n",
      "\n"
     ]
    }
   ],
   "source": [
    "user_session_songs_avg.show(5)"
   ]
  },
  {
   "cell_type": "code",
   "execution_count": 30,
   "metadata": {},
   "outputs": [],
   "source": [
    "# Feature 4: number of sessions\n",
    "user_session_count = df_withchurn.select(\"userId\", \"sessionId\").dropDuplicates().groupby(\"userId\").count()\n",
    "user_session_count = user_session_count.withColumnRenamed(\"count\", \"sessionCount\")"
   ]
  },
  {
   "cell_type": "code",
   "execution_count": 31,
   "metadata": {},
   "outputs": [
    {
     "name": "stdout",
     "output_type": "stream",
     "text": [
      "+------+------------+\n",
      "|userId|sessionCount|\n",
      "+------+------------+\n",
      "|100010|           7|\n",
      "|200002|           6|\n",
      "|   125|           1|\n",
      "|    51|          10|\n",
      "|   124|          29|\n",
      "+------+------------+\n",
      "only showing top 5 rows\n",
      "\n"
     ]
    }
   ],
   "source": [
    "user_session_count.show(5)"
   ]
  },
  {
   "cell_type": "code",
   "execution_count": 32,
   "metadata": {},
   "outputs": [],
   "source": [
    "# Feature 5: gender\n",
    "user_gender = df_withchurn.select(\"userId\", \"gender\").dropDuplicates()\n",
    "user_gender = user_gender.replace([\"M\", \"F\"], [\"0\", \"1\"], \"gender\")\n",
    "user_gender = user_gender.select(\"userId\", user_gender.gender.cast(\"int\"))"
   ]
  },
  {
   "cell_type": "code",
   "execution_count": 33,
   "metadata": {},
   "outputs": [
    {
     "name": "stdout",
     "output_type": "stream",
     "text": [
      "+------+------+\n",
      "|userId|gender|\n",
      "+------+------+\n",
      "|    44|     1|\n",
      "|    46|     1|\n",
      "|    41|     1|\n",
      "|    72|     1|\n",
      "|300023|     1|\n",
      "+------+------+\n",
      "only showing top 5 rows\n",
      "\n"
     ]
    }
   ],
   "source": [
    "user_gender.show(5)"
   ]
  },
  {
   "cell_type": "code",
   "execution_count": 34,
   "metadata": {},
   "outputs": [],
   "source": [
    "# Feature 6: whether the user is currently a paid user\n",
    "user_paid = df_withchurn.groupby(\"userId\", \"level\").agg(max(df_withchurn.ts).alias(\"finalTime\")).sort(\"userId\")\n",
    "user_recent_level_time = user_paid.groupby(\"userId\").agg(max(user_paid.finalTime).alias(\"recent\"))\n",
    "user_recent_level = user_recent_level_time.join(user_paid, [user_paid.userId == user_recent_level_time.userId, user_recent_level_time.recent == user_paid.finalTime]).select(user_paid.userId, \"level\").sort(\"userId\")\n",
    "user_recent_level = user_recent_level.replace([\"free\", \"paid\"], [\"0\", \"1\"], \"level\")\n",
    "user_recent_level = user_recent_level.select(\"userId\", user_recent_level.level.cast(\"int\"))"
   ]
  },
  {
   "cell_type": "code",
   "execution_count": 35,
   "metadata": {},
   "outputs": [
    {
     "name": "stdout",
     "output_type": "stream",
     "text": [
      "+------+-----+\n",
      "|userId|level|\n",
      "+------+-----+\n",
      "|    10|    1|\n",
      "|   100|    1|\n",
      "|100001|    0|\n",
      "|100002|    1|\n",
      "|100003|    0|\n",
      "+------+-----+\n",
      "only showing top 5 rows\n",
      "\n"
     ]
    }
   ],
   "source": [
    "user_recent_level.show(5)"
   ]
  },
  {
   "cell_type": "code",
   "execution_count": 36,
   "metadata": {},
   "outputs": [],
   "source": [
    "# Feature 7: frequency of use of pages\n",
    "# get all the type of page\n",
    "page_list = [(row['page']) for row in df_withchurn.select(\"page\").dropDuplicates().collect()]\n",
    "\n",
    "# must remove the column which will cause data leakage\n",
    "page_list.remove(\"Cancel\")\n",
    "page_list.remove(\"Cancellation Confirmation\")\n",
    "\n",
    "# caculate the total page each user view\n",
    "user_page_view_count = df_withchurn.groupby(\"userId\").count()\n",
    "user_page_view_count = user_page_view_count.withColumnRenamed(\"count\", \"pageCount\")\n",
    "\n",
    "\n",
    "for page in page_list:\n",
    "    col_name = \"count\" + page.replace(\" \", \"\")\n",
    "    view_count = df_withchurn.filter(df_withchurn.page==page).groupby(\"userId\").count()\n",
    "    view_count = view_count.withColumnRenamed(\"count\", col_name).withColumnRenamed(\"userId\", \"userIdTemp\")\n",
    "    user_page_view_count = user_page_view_count.join(view_count, user_page_view_count.userId==view_count.userIdTemp, \"left\").drop(\"userIdTemp\")\n",
    "user_page_view_count = user_page_view_count.sort(\"userId\")\n",
    "user_page_view_count = user_page_view_count.fillna(0)"
   ]
  },
  {
   "cell_type": "code",
   "execution_count": 37,
   "metadata": {},
   "outputs": [],
   "source": [
    "col_list = user_page_view_count.columns\n",
    "col_list.remove(\"userId\")\n",
    "col_list.remove(\"pageCount\")\n",
    "freq_sql = \"select userId\"\n",
    "for col in col_list:\n",
    "    col_name = col.replace(\"count\", \"freq\")\n",
    "    sql_str = \", (\" + col + \"/(pageCount/100)) as \" + col_name\n",
    "    freq_sql = freq_sql + sql_str\n",
    "freq_sql = freq_sql + \" from user_page_view_count\"\n",
    "\n",
    "user_page_view_count.createOrReplaceTempView(\"user_page_view_count\")\n",
    "col_list = user_page_view_count.columns\n",
    "col_list.remove(\"userId\")\n",
    "col_list.remove(\"pageCount\")\n",
    "freq_sql = \"select userId\"\n",
    "for col in col_list:\n",
    "    col_name = col.replace(\"count\", \"freq\")\n",
    "    sql_str = \", (\" + col + \"/(pageCount/100)) as \" + col_name\n",
    "    freq_sql = freq_sql + sql_str\n",
    "freq_sql = freq_sql + \" from user_page_view_count\"\n",
    "\n",
    "user_page_view_freq = spark.sql(freq_sql)"
   ]
  },
  {
   "cell_type": "code",
   "execution_count": 38,
   "metadata": {},
   "outputs": [
    {
     "name": "stdout",
     "output_type": "stream",
     "text": [
      "+------+--------------------+------------------+------------------+------------------+-------------------+------------------+-------------------+-------------------+-------------------+------------------+------------------+-----------------+-----------------+-------------------+--------------------+-------------------+--------------------+\n",
      "|userId| freqSubmitDowngrade|    freqThumbsDown|          freqHome|     freqDowngrade|     freqRollAdvert|        freqLogout|   freqSaveSettings|          freqAbout|       freqSettings| freqAddtoPlaylist|     freqAddFriend|     freqNextSong|     freqThumbsUp|           freqHelp|         freqUpgrade|          freqError|   freqSubmitUpgrade|\n",
      "+------+--------------------+------------------+------------------+------------------+-------------------+------------------+-------------------+-------------------+-------------------+------------------+------------------+-----------------+-----------------+-------------------+--------------------+-------------------+--------------------+\n",
      "|    10|                 0.0|0.5031446540880503|3.7735849056603774|0.8805031446540881|0.12578616352201258|1.3836477987421383|0.12578616352201258|0.25157232704402516| 0.8805031446540881|1.1320754716981132|1.5094339622641508|84.65408805031447|4.654088050314465|0.12578616352201258|                 0.0|                0.0|                 0.0|\n",
      "|   100|0.031113876789047916|0.8400746733042938| 3.266957062850031|0.9334163036714375| 0.7778469197261979| 1.088985687616677| 0.1555693839452396|0.37336652146857496|0.34225264467952704| 1.897946484131923|1.5245799626633478|83.44741754822651|4.604853764779091| 0.5600497822028625|0.031113876789047916|0.09334163036714374|0.031113876789047916|\n",
      "|100001|                 0.0|  1.06951871657754|  5.88235294117647|               0.0| 7.4866310160427805|3.7433155080213902|                0.0|                0.0|   0.53475935828877|1.6042780748663101|  1.06951871657754|71.12299465240642| 4.27807486631016|   0.53475935828877|    1.06951871657754|   0.53475935828877|                 0.0|\n",
      "|100002|                 0.0|               0.0|2.7522935779816513|0.9174311926605504| 1.3761467889908257|0.4587155963302752|                0.0|                0.0|                0.0| 2.293577981651376|0.4587155963302752|89.44954128440367|2.293577981651376|                0.0|                 0.0|                0.0|                 0.0|\n",
      "|100003|                 0.0|               0.0| 8.974358974358974|               0.0| 11.538461538461538| 3.846153846153846|                0.0|                0.0|                0.0| 2.564102564102564|               0.0|65.38461538461539|3.846153846153846|  1.282051282051282|                 0.0|                0.0|                 0.0|\n",
      "+------+--------------------+------------------+------------------+------------------+-------------------+------------------+-------------------+-------------------+-------------------+------------------+------------------+-----------------+-----------------+-------------------+--------------------+-------------------+--------------------+\n",
      "only showing top 5 rows\n",
      "\n"
     ]
    }
   ],
   "source": [
    "user_page_view_freq.show(5)"
   ]
  },
  {
   "cell_type": "code",
   "execution_count": 39,
   "metadata": {},
   "outputs": [],
   "source": [
    "# Feature 8: how many singers have the user heard\n",
    "user_artist_count = df_withchurn.filter(df_withchurn.page==\"NextSong\").select(\"userId\", \"artist\").dropDuplicates().groupby(\"userId\").count()\n",
    "user_artist_count = user_artist_count.withColumnRenamed(\"count\", \"aritstCount\")"
   ]
  },
  {
   "cell_type": "code",
   "execution_count": 40,
   "metadata": {},
   "outputs": [
    {
     "name": "stdout",
     "output_type": "stream",
     "text": [
      "+------+-----------+\n",
      "|userId|aritstCount|\n",
      "+------+-----------+\n",
      "|100010|        252|\n",
      "|200002|        339|\n",
      "|   125|          8|\n",
      "|    51|       1385|\n",
      "|   124|       2232|\n",
      "+------+-----------+\n",
      "only showing top 5 rows\n",
      "\n"
     ]
    }
   ],
   "source": [
    "user_artist_count.show(5)"
   ]
  },
  {
   "cell_type": "code",
   "execution_count": 41,
   "metadata": {},
   "outputs": [],
   "source": [
    "#Label: churn"
   ]
  },
  {
   "cell_type": "code",
   "execution_count": 42,
   "metadata": {},
   "outputs": [],
   "source": [
    "user_churn = df_withchurn.select(\"userId\", \"churn\").dropDuplicates()\n",
    "user_churn = user_churn.select(\"userId\", user_churn.churn.cast(\"int\"))"
   ]
  },
  {
   "cell_type": "code",
   "execution_count": 43,
   "metadata": {},
   "outputs": [
    {
     "name": "stdout",
     "output_type": "stream",
     "text": [
      "+------+-----+\n",
      "|userId|churn|\n",
      "+------+-----+\n",
      "|    19|    0|\n",
      "|100005|    1|\n",
      "|200007|    0|\n",
      "|300007|    1|\n",
      "|    50|    0|\n",
      "+------+-----+\n",
      "only showing top 5 rows\n",
      "\n"
     ]
    }
   ],
   "source": [
    "user_churn.show(5)"
   ]
  },
  {
   "cell_type": "code",
   "execution_count": 44,
   "metadata": {},
   "outputs": [],
   "source": [
    "# put all the features dataframe into a list\n",
    "features_list = []\n",
    "features_list.append(user_reg_days)\n",
    "features_list.append(user_session_time_stat)\n",
    "features_list.append(user_session_songs_avg)\n",
    "features_list.append(user_session_count)\n",
    "features_list.append(user_gender)\n",
    "features_list.append(user_recent_level)\n",
    "features_list.append(user_page_view_freq)\n",
    "features_list.append(user_artist_count)\n",
    "features_list.append(user_churn)"
   ]
  },
  {
   "cell_type": "code",
   "execution_count": 45,
   "metadata": {},
   "outputs": [],
   "source": [
    "# prepare the final dataframe to join all the other features\n",
    "df_final = df_withchurn.select(\"userId\").dropDuplicates()"
   ]
  },
  {
   "cell_type": "code",
   "execution_count": 46,
   "metadata": {},
   "outputs": [],
   "source": [
    "def features_merge(df1, df2):\n",
    "    \"\"\"\n",
    "    This function is used to merge the feature using left join\n",
    "    input: two data frame to be merged\n",
    "    output: merged dataframe\n",
    "    \"\"\"\n",
    "    df2 = df2.withColumnRenamed(\"userId\", \"userIdTemp\")\n",
    "    df = df1.join(df2, df1.userId == df2.userIdTemp, \"left\").drop(\"userIdTemp\")\n",
    "    return df"
   ]
  },
  {
   "cell_type": "code",
   "execution_count": 47,
   "metadata": {},
   "outputs": [],
   "source": [
    "# use function to merge the features in the list\n",
    "for feature in features_list:\n",
    "    df_final = features_merge(df_final, feature)"
   ]
  },
  {
   "cell_type": "code",
   "execution_count": 48,
   "metadata": {},
   "outputs": [
    {
     "name": "stdout",
     "output_type": "stream",
     "text": [
      "+------+------------------+------------------+-----------------+------------------+------------------+------------+------+-----+--------------------+------------------+------------------+------------------+-------------------+------------------+-------------------+-------------------+-------------------+------------------+------------------+-----------------+-----------------+-------------------+--------------------+-------------------+--------------------+-----------+-----+\n",
      "|userId|            regDay|    avgSessionTime|   minSessionTime|    maxSessionTime|   avgSessionSongs|sessionCount|gender|level| freqSubmitDowngrade|    freqThumbsDown|          freqHome|     freqDowngrade|     freqRollAdvert|        freqLogout|   freqSaveSettings|          freqAbout|       freqSettings| freqAddtoPlaylist|     freqAddFriend|     freqNextSong|     freqThumbsUp|           freqHelp|         freqUpgrade|          freqError|   freqSubmitUpgrade|aritstCount|churn|\n",
      "+------+------------------+------------------+-----------------+------------------+------------------+------------+------+-----+--------------------+------------------+------------------+------------------+-------------------+------------------+-------------------+-------------------+-------------------+------------------+------------------+-----------------+-----------------+-------------------+--------------------+-------------------+--------------------+-----------+-----+\n",
      "|    10| 51.76265046296297|459.74722222222226|91.41666666666667|1547.9166666666667|112.16666666666667|           6|     0|    1|                 0.0|0.5031446540880503|3.7735849056603774|0.8805031446540881|0.12578616352201258|1.3836477987421383|0.12578616352201258|0.25157232704402516| 0.8805031446540881|1.1320754716981132|1.5094339622641508|84.65408805031447|4.654088050314465|0.12578616352201258|                 0.0|                0.0|                 0.0|        565|    0|\n",
      "|   100| 64.87377314814815| 316.5190476190476|              0.0|1019.5833333333334| 78.88235294117646|          35|     0|    1|0.031113876789047916|0.8400746733042938| 3.266957062850031|0.9334163036714375| 0.7778469197261979| 1.088985687616677| 0.1555693839452396|0.37336652146857496|0.34225264467952704| 1.897946484131923|1.5245799626633478|83.44741754822651|4.604853764779091| 0.5600497822028625|0.031113876789047916|0.09334163036714374|0.031113876789047916|       1705|    0|\n",
      "|100001| 44.80021990740741|148.15833333333333|             63.0|215.28333333333333|             33.25|           4|     1|    0|                 0.0|  1.06951871657754|  5.88235294117647|               0.0| 7.4866310160427805|3.7433155080213902|                0.0|                0.0|   0.53475935828877|1.6042780748663101|  1.06951871657754|71.12299465240642| 4.27807486631016|   0.53475935828877|    1.06951871657754|   0.53475935828877|                 0.0|        125|    1|\n",
      "|100002|160.47207175925925|201.18333333333334|              0.0| 730.4666666666667|             48.75|           4|     1|    1|                 0.0|               0.0|2.7522935779816513|0.9174311926605504| 1.3761467889908257|0.4587155963302752|                0.0|                0.0|                0.0| 2.293577981651376|0.4587155963302752|89.44954128440367|2.293577981651376|                0.0|                 0.0|                0.0|                 0.0|        184|    0|\n",
      "|100003|22.748113425925926| 99.11666666666667|3.216666666666667|195.01666666666668|              25.5|           2|     1|    0|                 0.0|               0.0| 8.974358974358974|               0.0| 11.538461538461538| 3.846153846153846|                0.0|                0.0|                0.0| 2.564102564102564|               0.0|65.38461538461539|3.846153846153846|  1.282051282051282|                 0.0|                0.0|                 0.0|         50|    1|\n",
      "+------+------------------+------------------+-----------------+------------------+------------------+------------+------+-----+--------------------+------------------+------------------+------------------+-------------------+------------------+-------------------+-------------------+-------------------+------------------+------------------+-----------------+-----------------+-------------------+--------------------+-------------------+--------------------+-----------+-----+\n",
      "only showing top 5 rows\n",
      "\n"
     ]
    }
   ],
   "source": [
    "# sort and view the final dataframe\n",
    "df_final = df_final.sort(\"userId\")\n",
    "df_final.persist()\n",
    "df_final.show(5)"
   ]
  },
  {
   "cell_type": "markdown",
   "metadata": {},
   "source": [
    "# Modeling\n",
    "Split the full dataset into train, test, and validation sets. Test out several of the machine learning methods you learned. Evaluate the accuracy of the various models, tuning parameters as necessary. Determine your winning model based on test accuracy and report results on the validation set. Since the churned users are a fairly small subset, I suggest using F1 score as the metric to optimize."
   ]
  },
  {
   "cell_type": "code",
   "execution_count": 49,
   "metadata": {},
   "outputs": [
    {
     "name": "stdout",
     "output_type": "stream",
     "text": [
      "+-----+-----+\n",
      "|churn|count|\n",
      "+-----+-----+\n",
      "|    1|   52|\n",
      "|    0|  173|\n",
      "+-----+-----+\n",
      "\n"
     ]
    }
   ],
   "source": [
    "df_final.groupby(\"churn\").count().show()"
   ]
  },
  {
   "cell_type": "code",
   "execution_count": 52,
   "metadata": {},
   "outputs": [],
   "source": [
    "out_path = \"final_data.csv001\""
   ]
  },
  {
   "cell_type": "code",
   "execution_count": 53,
   "metadata": {},
   "outputs": [],
   "source": [
    "df_final.write.save(out_path, format=\"csv\", header=True)"
   ]
  },
  {
   "cell_type": "code",
   "execution_count": 54,
   "metadata": {},
   "outputs": [
    {
     "data": {
      "text/plain": [
       "DataFrame[userId: string, regDay: string, avgSessionTime: string, minSessionTime: string, maxSessionTime: string, avgSessionSongs: string, sessionCount: string, gender: string, level: string, freqSubmitDowngrade: string, freqThumbsDown: string, freqHome: string, freqDowngrade: string, freqRollAdvert: string, freqLogout: string, freqSaveSettings: string, freqAbout: string, freqSettings: string, freqAddtoPlaylist: string, freqAddFriend: string, freqNextSong: string, freqThumbsUp: string, freqHelp: string, freqUpgrade: string, freqError: string, freqSubmitUpgrade: string, aritstCount: string, churn: string]"
      ]
     },
     "execution_count": 54,
     "metadata": {},
     "output_type": "execute_result"
    }
   ],
   "source": [
    "df_final = spark.read.csv(out_path, header=True)\n",
    "df_final.persist()"
   ]
  },
  {
   "cell_type": "code",
   "execution_count": 55,
   "metadata": {},
   "outputs": [],
   "source": [
    "num_features_list = df_final.columns[1:]\n",
    "for f in num_features_list:\n",
    "    f_name = f + \"Num\"\n",
    "    df_final = df_final.withColumn(f_name, df_final[f].cast(\"float\"))\n",
    "    df_final = df_final.drop(f)"
   ]
  },
  {
   "cell_type": "code",
   "execution_count": 56,
   "metadata": {},
   "outputs": [],
   "source": [
    "assembler = VectorAssembler(inputCols=df_final.columns[1:-1], outputCol=\"NumFeatures\")\n",
    "data = assembler.transform(df_final)"
   ]
  },
  {
   "cell_type": "code",
   "execution_count": 57,
   "metadata": {},
   "outputs": [],
   "source": [
    "scaler = StandardScaler(inputCol=\"NumFeatures\", outputCol=\"ScaledNumFeatures\", withStd=True)\n",
    "scalerModel = scaler.fit(data)\n",
    "data = scalerModel.transform(data)"
   ]
  },
  {
   "cell_type": "code",
   "execution_count": 58,
   "metadata": {},
   "outputs": [],
   "source": [
    "data = data.select(data.churnNum.alias(\"label\"), data.ScaledNumFeatures.alias(\"features\"))"
   ]
  },
  {
   "cell_type": "code",
   "execution_count": 59,
   "metadata": {},
   "outputs": [],
   "source": [
    "train, validation = data.randomSplit([0.9, 0.1], seed=42)\n",
    "train = train.cache()"
   ]
  },
  {
   "cell_type": "code",
   "execution_count": 60,
   "metadata": {},
   "outputs": [],
   "source": [
    "lr =  LogisticRegression()\n",
    "paramGrid = ParamGridBuilder() \\\n",
    "    .addGrid(lr.elasticNetParam,[0.0, 0.1, 0.5, 1.0]) \\\n",
    "    .addGrid(lr.regParam,[0.0, 0.05, 0.1]) \\\n",
    "    .build()\n",
    "\n",
    "crossval = CrossValidator(estimator=lr,\n",
    "                          estimatorParamMaps=paramGrid,\n",
    "                          evaluator=MulticlassClassificationEvaluator(),\n",
    "                          numFolds=3)\n",
    "cvModel_lr = crossval.fit(train)"
   ]
  },
  {
   "cell_type": "code",
   "execution_count": 63,
   "metadata": {},
   "outputs": [],
   "source": [
    "cvModel_lr.save('cvModel_lr.model01')"
   ]
  },
  {
   "cell_type": "code",
   "execution_count": 64,
   "metadata": {},
   "outputs": [
    {
     "data": {
      "text/plain": [
       "[0.78791109842437,\n",
       " 0.7731991660844769,\n",
       " 0.7401546001927439,\n",
       " 0.78791109842437,\n",
       " 0.7605917098487633,\n",
       " 0.7361904341365957,\n",
       " 0.78791109842437,\n",
       " 0.7327784332934022,\n",
       " 0.6908895718886798,\n",
       " 0.78791109842437,\n",
       " 0.7055468482033198,\n",
       " 0.6815119778246356]"
      ]
     },
     "execution_count": 64,
     "metadata": {},
     "output_type": "execute_result"
    }
   ],
   "source": [
    "cvModel_lr.avgMetrics"
   ]
  },
  {
   "cell_type": "code",
   "execution_count": 65,
   "metadata": {},
   "outputs": [],
   "source": [
    "dt = DecisionTreeClassifier()\n",
    "paramGrid = ParamGridBuilder() \\\n",
    "    .addGrid(dt.impurity,['entropy', 'gini']) \\\n",
    "    .addGrid(dt.maxDepth,[2, 3, 4, 5, 6, 7, 8]) \\\n",
    "    .build()\n",
    "\n",
    "crossval_dt = CrossValidator(estimator=dt,\n",
    "                          estimatorParamMaps=paramGrid,\n",
    "                          evaluator=MulticlassClassificationEvaluator(),\n",
    "                          numFolds=3)\n",
    "\n",
    "cvModel_dt = crossval_dt.fit(train)"
   ]
  },
  {
   "cell_type": "code",
   "execution_count": 66,
   "metadata": {},
   "outputs": [],
   "source": [
    "cvModel_dt.save('cvModel_dt.model01')"
   ]
  },
  {
   "cell_type": "code",
   "execution_count": 67,
   "metadata": {},
   "outputs": [
    {
     "data": {
      "text/plain": [
       "[0.7429254835486141,\n",
       " 0.7629721203081827,\n",
       " 0.756493013866078,\n",
       " 0.7501751994837378,\n",
       " 0.7413145351313923,\n",
       " 0.7388114754316326,\n",
       " 0.7299662616639522,\n",
       " 0.7715028909657782,\n",
       " 0.7674416474858385,\n",
       " 0.7482033664610932,\n",
       " 0.7149885400927174,\n",
       " 0.6954621380975693,\n",
       " 0.697528477983908,\n",
       " 0.697528477983908]"
      ]
     },
     "execution_count": 67,
     "metadata": {},
     "output_type": "execute_result"
    }
   ],
   "source": [
    "cvModel_dt.avgMetrics"
   ]
  },
  {
   "cell_type": "code",
   "execution_count": 68,
   "metadata": {},
   "outputs": [],
   "source": [
    "gbt = GBTClassifier()\n",
    "\n",
    "paramGrid = ParamGridBuilder() \\\n",
    "    .addGrid(gbt.maxIter,[3, 10, 20]) \\\n",
    "    .addGrid(gbt.maxDepth,[2, 4, 6, 8]) \\\n",
    "    .build()\n",
    "\n",
    "crossval_gbt = CrossValidator(estimator=gbt,\n",
    "                          estimatorParamMaps=paramGrid,\n",
    "                          evaluator=MulticlassClassificationEvaluator(),\n",
    "                          numFolds=3)\n",
    "\n",
    "cvModel_gbt = crossval_gbt.fit(train)"
   ]
  },
  {
   "cell_type": "code",
   "execution_count": 69,
   "metadata": {},
   "outputs": [],
   "source": [
    "cvModel_gbt.save('cvModel_gbt.model01')"
   ]
  },
  {
   "cell_type": "code",
   "execution_count": 70,
   "metadata": {},
   "outputs": [
    {
     "data": {
      "text/plain": [
       "[0.7707645443450786,\n",
       " 0.7482033664610932,\n",
       " 0.7010724821694518,\n",
       " 0.697528477983908,\n",
       " 0.7928246666064727,\n",
       " 0.731049631687503,\n",
       " 0.6975212904063713,\n",
       " 0.697528477983908,\n",
       " 0.7849403530640897,\n",
       " 0.731971941415152,\n",
       " 0.6931006398318746,\n",
       " 0.697528477983908]"
      ]
     },
     "execution_count": 70,
     "metadata": {},
     "output_type": "execute_result"
    }
   ],
   "source": [
    "cvModel_gbt.avgMetrics"
   ]
  },
  {
   "cell_type": "code",
   "execution_count": 71,
   "metadata": {},
   "outputs": [
    {
     "name": "stdout",
     "output_type": "stream",
     "text": [
      "+-----+-----+\n",
      "|label|count|\n",
      "+-----+-----+\n",
      "|  1.0|   44|\n",
      "|  0.0|   43|\n",
      "+-----+-----+\n",
      "\n"
     ]
    }
   ],
   "source": [
    "stratified_train = train.sampleBy('label', fractions={0: 99/349, 1: 1.0}).cache()\n",
    "stratified_train.groupby(\"label\").count().show()"
   ]
  },
  {
   "cell_type": "code",
   "execution_count": 72,
   "metadata": {},
   "outputs": [
    {
     "data": {
      "text/plain": [
       "[0.5624745856324803,\n",
       " 0.6589833884227477,\n",
       " 0.6361267868819356,\n",
       " 0.5624745856324803,\n",
       " 0.653635494506176,\n",
       " 0.6270813041522424,\n",
       " 0.5624745856324803,\n",
       " 0.6195770564191617,\n",
       " 0.5769413795653306,\n",
       " 0.5624745856324803,\n",
       " 0.5857931463118342,\n",
       " 0.5633643305060791]"
      ]
     },
     "execution_count": 72,
     "metadata": {},
     "output_type": "execute_result"
    }
   ],
   "source": [
    "lrs =  LogisticRegression()\n",
    "paramGrid = ParamGridBuilder() \\\n",
    "    .addGrid(lrs.elasticNetParam,[0.0, 0.1, 0.5, 1.0]) \\\n",
    "    .addGrid(lrs.regParam,[0.0, 0.05, 0.1]) \\\n",
    "    .build()\n",
    "\n",
    "crossval_lrs = CrossValidator(estimator=lrs,\n",
    "                          estimatorParamMaps=paramGrid,\n",
    "                          evaluator=MulticlassClassificationEvaluator(),\n",
    "                          numFolds=3)\n",
    "cvModel_lrs = crossval_lrs.fit(stratified_train)\n",
    "cvModel_lrs.avgMetrics"
   ]
  },
  {
   "cell_type": "code",
   "execution_count": 73,
   "metadata": {},
   "outputs": [],
   "source": [
    "cvModel_lrs.save('cvModel_lrs.model01')"
   ]
  },
  {
   "cell_type": "code",
   "execution_count": 74,
   "metadata": {},
   "outputs": [
    {
     "data": {
      "text/plain": [
       "[0.5484439063015731,\n",
       " 0.5160796841763794,\n",
       " 0.528082311240206,\n",
       " 0.5277885539166965,\n",
       " 0.5277885539166965,\n",
       " 0.5277885539166965,\n",
       " 0.5277885539166965,\n",
       " 0.6069513624776783,\n",
       " 0.5872395790816843,\n",
       " 0.6066102318733898,\n",
       " 0.6063141361650003,\n",
       " 0.6063141361650002,\n",
       " 0.6063141361650002,\n",
       " 0.6063141361650002]"
      ]
     },
     "execution_count": 74,
     "metadata": {},
     "output_type": "execute_result"
    }
   ],
   "source": [
    "dts = DecisionTreeClassifier()\n",
    "paramGrid = ParamGridBuilder() \\\n",
    "    .addGrid(dts.impurity,['entropy', 'gini']) \\\n",
    "    .addGrid(dts.maxDepth,[2, 3, 4, 5, 6, 7, 8]) \\\n",
    "    .build()\n",
    "crossval_dts = CrossValidator(estimator=dts,\n",
    "                          estimatorParamMaps=paramGrid,\n",
    "                          evaluator=MulticlassClassificationEvaluator(),\n",
    "                          numFolds=3)\n",
    "cvModel_dts = crossval_dts.fit(stratified_train)\n",
    "cvModel_dts.avgMetrics"
   ]
  },
  {
   "cell_type": "code",
   "execution_count": 75,
   "metadata": {},
   "outputs": [],
   "source": [
    "cvModel_dts.save('cvModel_dts.model01')"
   ]
  },
  {
   "cell_type": "code",
   "execution_count": 76,
   "metadata": {},
   "outputs": [
    {
     "data": {
      "text/plain": [
       "[0.5927993239789973,\n",
       " 0.6066102318733898,\n",
       " 0.6063141361650002,\n",
       " 0.6063141361650002,\n",
       " 0.6016510907255008,\n",
       " 0.5832625067712787,\n",
       " 0.6063141361650002,\n",
       " 0.6063141361650002,\n",
       " 0.5518114891315133,\n",
       " 0.5832625067712787,\n",
       " 0.6063141361650002,\n",
       " 0.6063141361650002]"
      ]
     },
     "execution_count": 76,
     "metadata": {},
     "output_type": "execute_result"
    }
   ],
   "source": [
    "gbts = GBTClassifier()\n",
    "paramGrid = ParamGridBuilder() \\\n",
    "    .addGrid(gbts.maxIter,[3, 10, 20]) \\\n",
    "    .addGrid(gbts.maxDepth,[2, 4, 6, 8]) \\\n",
    "    .build()\n",
    "crossval_gbts = CrossValidator(estimator=gbts,\n",
    "                          estimatorParamMaps=paramGrid,\n",
    "                          evaluator=MulticlassClassificationEvaluator(),\n",
    "                          numFolds=3)\n",
    "cvModel_gbts = crossval_gbts.fit(stratified_train)\n",
    "cvModel_gbts.avgMetrics"
   ]
  },
  {
   "cell_type": "code",
   "execution_count": 77,
   "metadata": {},
   "outputs": [],
   "source": [
    "cvModel_gbts.save('cvModel_gbts.model01')"
   ]
  },
  {
   "cell_type": "code",
   "execution_count": 78,
   "metadata": {},
   "outputs": [],
   "source": [
    "results = cvModel_lr.transform(validation)"
   ]
  },
  {
   "cell_type": "code",
   "execution_count": 79,
   "metadata": {},
   "outputs": [
    {
     "name": "stdout",
     "output_type": "stream",
     "text": [
      "0.5\n",
      "0.25\n",
      "0.3333333333333333\n"
     ]
    }
   ],
   "source": [
    "tp = results.filter(\"label = 1 and prediction = 1\").count()\n",
    "fp = results.filter(\"label = 0 and prediction = 1\").count()\n",
    "fn = results.filter(\"label = 1 and prediction = 0\").count()\n",
    "precision = tp / (tp + fp) \n",
    "recall = tp / (tp + fn)\n",
    "f1 = 2*precision*recall / (precision+recall)\n",
    "print(precision)\n",
    "print(recall)\n",
    "print(f1)"
   ]
  },
  {
   "cell_type": "code",
   "execution_count": 80,
   "metadata": {},
   "outputs": [],
   "source": [
    "results = cvModel_lrs.transform(validation)"
   ]
  },
  {
   "cell_type": "code",
   "execution_count": 81,
   "metadata": {},
   "outputs": [
    {
     "name": "stdout",
     "output_type": "stream",
     "text": [
      "0.6666666666666666\n",
      "0.5\n",
      "0.5714285714285715\n"
     ]
    }
   ],
   "source": [
    "tp = results.filter(\"label = 1 and prediction = 1\").count()\n",
    "fp = results.filter(\"label = 0 and prediction = 1\").count()\n",
    "fn = results.filter(\"label = 1 and prediction = 0\").count()\n",
    "precision = tp / (tp + fp) \n",
    "recall = tp / (tp + fn)\n",
    "f1 = 2*precision*recall / (precision+recall)\n",
    "print(precision)\n",
    "print(recall)\n",
    "print(f1)"
   ]
  },
  {
   "cell_type": "code",
   "execution_count": 82,
   "metadata": {},
   "outputs": [
    {
     "data": {
      "text/plain": [
       "DenseVector([-0.6265, -0.0318, -0.1242, -0.1458, -0.1055, -0.3213, -0.2575, 0.4209, -0.3611, 0.5508, -0.1325, 0.1261, 0.0739, -0.1461, 0.3193, -0.2852, -0.2108, -0.1587, -0.2063, -0.2497, -0.0497, 0.3892, 0.0234, 0.0283, 0.0653, -0.2037])"
      ]
     },
     "execution_count": 82,
     "metadata": {},
     "output_type": "execute_result"
    }
   ],
   "source": [
    "cvModel_lrs.bestModel.coefficients"
   ]
  },
  {
   "cell_type": "code",
   "execution_count": 83,
   "metadata": {},
   "outputs": [
    {
     "data": {
      "text/plain": [
       "['userId',\n",
       " 'regDayNum',\n",
       " 'avgSessionTimeNum',\n",
       " 'minSessionTimeNum',\n",
       " 'maxSessionTimeNum',\n",
       " 'avgSessionSongsNum',\n",
       " 'sessionCountNum',\n",
       " 'genderNum',\n",
       " 'levelNum',\n",
       " 'freqSubmitDowngradeNum',\n",
       " 'freqThumbsDownNum',\n",
       " 'freqHomeNum',\n",
       " 'freqDowngradeNum',\n",
       " 'freqRollAdvertNum',\n",
       " 'freqLogoutNum',\n",
       " 'freqSaveSettingsNum',\n",
       " 'freqAboutNum',\n",
       " 'freqSettingsNum',\n",
       " 'freqAddtoPlaylistNum',\n",
       " 'freqAddFriendNum',\n",
       " 'freqNextSongNum',\n",
       " 'freqThumbsUpNum',\n",
       " 'freqHelpNum',\n",
       " 'freqUpgradeNum',\n",
       " 'freqErrorNum',\n",
       " 'freqSubmitUpgradeNum',\n",
       " 'aritstCountNum',\n",
       " 'churnNum']"
      ]
     },
     "execution_count": 83,
     "metadata": {},
     "output_type": "execute_result"
    }
   ],
   "source": [
    "df_final.columns"
   ]
  },
  {
   "cell_type": "markdown",
   "metadata": {},
   "source": [
    "# Final Steps\n",
    "Clean up your code, adding comments and renaming variables to make the code easier to read and maintain. Refer to the Spark Project Overview page and Data Scientist Capstone Project Rubric to make sure you are including all components of the capstone project and meet all expectations. Remember, this includes thorough documentation in a README file in a Github repository, as well as a web app or blog post."
   ]
  },
  {
   "cell_type": "code",
   "execution_count": null,
   "metadata": {},
   "outputs": [],
   "source": []
  }
 ],
 "metadata": {
  "kernelspec": {
   "display_name": "Python 3",
   "language": "python",
   "name": "python3"
  },
  "language_info": {
   "codemirror_mode": {
    "name": "ipython",
    "version": 3
   },
   "file_extension": ".py",
   "mimetype": "text/x-python",
   "name": "python",
   "nbconvert_exporter": "python",
   "pygments_lexer": "ipython3",
   "version": "3.6.3"
  }
 },
 "nbformat": 4,
 "nbformat_minor": 2
}
